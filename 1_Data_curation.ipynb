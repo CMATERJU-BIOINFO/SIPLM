{
  "cells": [
    {
      "cell_type": "code",
      "execution_count": 1,
      "metadata": {
        "id": "H8IQZvZkscHx"
      },
      "outputs": [],
      "source": [
        "import pandas as pd\n",
        "import numpy as np\n",
        "from sklearn.model_selection import StratifiedKFold\n"
      ]
    },
    {
      "cell_type": "code",
      "execution_count": 3,
      "metadata": {
        "colab": {
          "base_uri": "https://localhost:8080/"
        },
        "id": "5IubbuBkufTG",
        "outputId": "cd8ec1b4-3500-4376-c128-07b680937e31"
      },
      "outputs": [
        {
          "name": "stdout",
          "output_type": "stream",
          "text": [
            "       Protein                                                seq  label\n",
            "0  TM129_HUMAN  MDSPEVTFTLAYLVFAVCFVFTPNEFHAAGLTVQNLLSGWLGSEDA...      1\n",
            "1  MED19_HUMAN  MENFTALFGAQADPPPPPTALGFGPGKPPPPPPPPAGGGPGTAPPP...      1\n",
            "2  BLT3B_HUMAN  MAGIIKKQILKHLSRFTKNLSPDKINLSTLKGEGELKNLELDEEVL...      0\n",
            "3  SC5AA_HUMAN  MAANSTSDLHTPGTQLSVADIIVITVYFALNVAVGIWSSCRASRNT...      0\n",
            "4  T120B_HUMAN  MSGQLERCEREWHELEGEFQELQETHRIYKQKLEELAALQTLCSSS...      0\n"
          ]
        }
      ],
      "source": [
        "balanced_df = pd.read_csv('Dataset/BioGrid_Human_SIP.csv')\n",
        "balanced_df = balanced_df.rename(columns={'uniProtKBId': 'Protein', 'sequence': 'seq', 'Label': 'label'})\n",
        "balanced_df.drop(columns='sequence length', inplace=True)\n",
        "print(balanced_df.head())"
      ]
    },
    {
      "cell_type": "code",
      "execution_count": 3,
      "metadata": {
        "colab": {
          "base_uri": "https://localhost:8080/"
        },
        "id": "fVUNgIxhwK7T",
        "outputId": "eca133d6-f251-4535-f3b3-0ac87ac843f1"
      },
      "outputs": [
        {
          "name": "stdout",
          "output_type": "stream",
          "text": [
            "Fold 1: (740, 3)\n",
            "Count of Label 0: 440\n",
            "Count of Label 1: 300\n",
            "Fold 2: (740, 3)\n",
            "Count of Label 0: 441\n",
            "Count of Label 1: 299\n",
            "Fold 3: (740, 3)\n",
            "Count of Label 0: 441\n",
            "Count of Label 1: 299\n",
            "Fold 4: (740, 3)\n",
            "Count of Label 0: 441\n",
            "Count of Label 1: 299\n",
            "Fold 5: (740, 3)\n",
            "Count of Label 0: 441\n",
            "Count of Label 1: 299\n",
            "Fold 6: (740, 3)\n",
            "Count of Label 0: 441\n",
            "Count of Label 1: 299\n",
            "Fold 7: (739, 3)\n",
            "Count of Label 0: 441\n",
            "Count of Label 1: 298\n",
            "Fold 8: (739, 3)\n",
            "Count of Label 0: 441\n",
            "Count of Label 1: 298\n",
            "Fold 9: (739, 3)\n",
            "Count of Label 0: 441\n",
            "Count of Label 1: 298\n",
            "Fold 10: (739, 3)\n",
            "Count of Label 0: 439\n",
            "Count of Label 1: 300\n",
            "Fold 11: (739, 3)\n",
            "Count of Label 0: 440\n",
            "Count of Label 1: 299\n"
          ]
        }
      ],
      "source": [
        "balanced_df['seq_len'] = balanced_df['seq'].str.len()\n",
        "\n",
        "# Create bins for sequence lengths to convert them into categorical values\n",
        "balanced_df['len_bin'] = pd.qcut(balanced_df['seq_len'], q=5, labels=False, duplicates='drop')\n",
        "\n",
        "# Create a new stratification column by combining class labels and sequence length bins\n",
        "balanced_df['stratify_col'] = balanced_df['label'].astype(str) + \"_\" + balanced_df['len_bin'].astype(str)\n",
        "\n",
        "# Initialize StratifiedKFold for 11 folds\n",
        "skf = StratifiedKFold(n_splits=11, shuffle=True, random_state=42)\n",
        "\n",
        "# Store each fold in a list\n",
        "split_dfs = []\n",
        "for train_index, test_index in skf.split(balanced_df, balanced_df['stratify_col']):\n",
        "    fold_df = balanced_df.iloc[test_index].drop(columns=['seq_len', 'len_bin', 'stratify_col'])  # Drop unnecessary columns\n",
        "    split_dfs.append(fold_df)\n",
        "\n",
        "# Check the size of each fold\n",
        "for i, df in enumerate(split_dfs):\n",
        "    print(f\"Fold {i+1}: {df.shape}\")\n",
        "    label_counts = df['label'].value_counts()\n",
        "    print(\"Count of Label 0:\", label_counts.get(0, 0))\n",
        "    print(\"Count of Label 1:\", label_counts.get(1, 0))\n"
      ]
    },
    {
      "cell_type": "code",
      "execution_count": 4,
      "metadata": {
        "id": "DWXw-fcjwf1i"
      },
      "outputs": [],
      "source": [
        "def split_sequence(sequence, max_length=254, chunk_size=254, stride=64):\n",
        "    if len(sequence) > max_length:\n",
        "        # Split the sequence into overlapping chunks of chunk_size with the given stride\n",
        "        chunks = []\n",
        "        for i in range(0, len(sequence), stride):\n",
        "            chunk = sequence[i:i + chunk_size]\n",
        "            if len(chunk) == chunk_size:\n",
        "                chunks.append(chunk)\n",
        "        return chunks\n",
        "    else:\n",
        "        return [sequence]"
      ]
    },
    {
      "cell_type": "code",
      "execution_count": null,
      "metadata": {
        "colab": {
          "base_uri": "https://localhost:8080/"
        },
        "id": "9vS2utV5wl3C",
        "outputId": "81a795c4-74d7-4c93-a1e3-0b01ae553a61"
      },
      "outputs": [
        {
          "name": "stdout",
          "output_type": "stream",
          "text": [
            "Split 1 saved.\n",
            "\n",
            "Count of Label 0: 2337\n",
            "Count of Label 1: 1874\n",
            "Split 2 saved.\n",
            "\n",
            "Count of Label 0: 2270\n",
            "Count of Label 1: 1957\n",
            "Split 3 saved.\n",
            "\n",
            "Count of Label 0: 2221\n",
            "Count of Label 1: 1867\n",
            "Split 4 saved.\n",
            "\n",
            "Count of Label 0: 2266\n",
            "Count of Label 1: 1777\n",
            "Split 5 saved.\n",
            "\n",
            "Count of Label 0: 2290\n",
            "Count of Label 1: 1906\n",
            "Split 6 saved.\n",
            "\n",
            "Count of Label 0: 2444\n",
            "Count of Label 1: 1950\n",
            "Split 7 saved.\n",
            "\n",
            "Count of Label 0: 2278\n",
            "Count of Label 1: 2117\n",
            "Split 8 saved.\n",
            "\n",
            "Count of Label 0: 2379\n",
            "Count of Label 1: 2114\n",
            "Split 9 saved.\n",
            "\n",
            "Count of Label 0: 2324\n",
            "Count of Label 1: 2030\n",
            "Split 10 saved.\n",
            "\n",
            "Count of Label 0: 2317\n",
            "Count of Label 1: 1902\n",
            "Split 11 saved.\n",
            "\n",
            "Count of Label 0: 2279\n",
            "Count of Label 1: 1964\n"
          ]
        }
      ],
      "source": [
        "for i, split_df in enumerate(split_dfs):\n",
        "    split_rows = []  # List to hold new rows with split sequences\n",
        "    for _, row in split_df.iterrows():\n",
        "        split_seqs = split_sequence(row['seq'])\n",
        "        for seq in split_seqs:\n",
        "            # Append a new row with split sequence\n",
        "            split_rows.append({\n",
        "                'Protein': row['Protein'],\n",
        "                'seq': seq,\n",
        "                'label': row['label']\n",
        "            })\n",
        "\n",
        "    # Convert list of dictionaries into a new DataFrame\n",
        "    new_split_df = pd.DataFrame(split_rows)\n",
        "    new_split_df.to_csv(f'Dataset/biogrid_human/split_{i+1}.csv', index=False)\n",
        "    print(f\"Split {i+1} saved./n\")\n",
        "    label_counts = new_split_df['label'].value_counts()\n",
        "    print(\"Count of Label 0:\", label_counts.get(0, 0))\n",
        "    print(\"Count of Label 1:\", label_counts.get(1, 0))"
      ]
    },
    {
      "cell_type": "code",
      "execution_count": null,
      "metadata": {
        "colab": {
          "base_uri": "https://localhost:8080/"
        },
        "id": "fU1C-2ZIxFMC",
        "outputId": "82da3fa3-cee5-40a0-995a-782795503aa8"
      },
      "outputs": [
        {
          "name": "stdout",
          "output_type": "stream",
          "text": [
            "Test set saved as test.csv\n",
            "Train and validation sets saved for fold 1:\n",
            "  Train -> train_fold1.csv (38409 samples)\n",
            "  Valid -> valid_fold1.csv (4211 samples)\n",
            "Train and validation sets saved for fold 2:\n",
            "  Train -> train_fold2.csv (38393 samples)\n",
            "  Valid -> valid_fold2.csv (4227 samples)\n",
            "Train and validation sets saved for fold 3:\n",
            "  Train -> train_fold3.csv (38532 samples)\n",
            "  Valid -> valid_fold3.csv (4088 samples)\n",
            "Train and validation sets saved for fold 4:\n",
            "  Train -> train_fold4.csv (38577 samples)\n",
            "  Valid -> valid_fold4.csv (4043 samples)\n",
            "Train and validation sets saved for fold 5:\n",
            "  Train -> train_fold5.csv (38424 samples)\n",
            "  Valid -> valid_fold5.csv (4196 samples)\n",
            "Train and validation sets saved for fold 6:\n",
            "  Train -> train_fold6.csv (38226 samples)\n",
            "  Valid -> valid_fold6.csv (4394 samples)\n",
            "Train and validation sets saved for fold 7:\n",
            "  Train -> train_fold7.csv (38225 samples)\n",
            "  Valid -> valid_fold7.csv (4395 samples)\n",
            "Train and validation sets saved for fold 8:\n",
            "  Train -> train_fold8.csv (38127 samples)\n",
            "  Valid -> valid_fold8.csv (4493 samples)\n",
            "Train and validation sets saved for fold 9:\n",
            "  Train -> train_fold9.csv (38266 samples)\n",
            "  Valid -> valid_fold9.csv (4354 samples)\n",
            "Train and validation sets saved for fold 10:\n",
            "  Train -> train_fold10.csv (38401 samples)\n",
            "  Valid -> valid_fold10.csv (4219 samples)\n"
          ]
        }
      ],
      "source": [
        "test_df = pd.read_csv('Dataset/biogrid_human/split_11.csv')\n",
        "test_df.to_csv('Dataset/biogrid_human/biogrid_human_dataset/Biogrid_human.test.csv', index=False)\n",
        "print(\"Test set saved as test.csv\")\n",
        "\n",
        "# Loop through 10 folds, using each as validation once\n",
        "for i in range(1, 11):\n",
        "    valid_df = pd.read_csv(f'Dataset/biogrid_human/split_{i}.csv')\n",
        "\n",
        "    # Merge the remaining 9 folds into train_df\n",
        "    train_dfs = []\n",
        "    for j in range(1, 11):\n",
        "        if j != i:\n",
        "            train_dfs.append(pd.read_csv(f'Dataset/biogrid_human/split_{j}.csv'))\n",
        "\n",
        "    train_df = pd.concat(train_dfs, ignore_index=True)\n",
        "\n",
        "    # Save train and validation sets\n",
        "    train_df.to_csv(f'Dataset/biogrid_human/biogrid_human_dataset/Biogrid_human_{i}.train.csv', index=False)\n",
        "    valid_df.to_csv(f'Dataset/biogrid_human/biogrid_human_dataset/Biogrid_human_{i}.valid.csv', index=False)\n",
        "\n",
        "    print(f\"Train and validation sets saved for fold {i}:\")\n",
        "    print(f\"  Train -> train_fold{i}.csv ({train_df.shape[0]} samples)\")\n",
        "    print(f\"  Valid -> valid_fold{i}.csv ({valid_df.shape[0]} samples)\")"
      ]
    }
  ],
  "metadata": {
    "colab": {
      "provenance": []
    },
    "kernelspec": {
      "display_name": "Mtech",
      "language": "python",
      "name": "python3"
    },
    "language_info": {
      "codemirror_mode": {
        "name": "ipython",
        "version": 3
      },
      "file_extension": ".py",
      "mimetype": "text/x-python",
      "name": "python",
      "nbconvert_exporter": "python",
      "pygments_lexer": "ipython3",
      "version": "3.8.20"
    }
  },
  "nbformat": 4,
  "nbformat_minor": 0
}
